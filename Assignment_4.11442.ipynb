{
 "cells": [
  {
   "cell_type": "code",
   "execution_count": 1,
   "metadata": {},
   "outputs": [],
   "source": [
    "import numpy as np"
   ]
  },
  {
   "cell_type": "code",
   "execution_count": 2,
   "metadata": {},
   "outputs": [
    {
     "name": "stdout",
     "output_type": "stream",
     "text": [
      "For increasing = True \n",
      " [[    1     1     1     1]\n",
      " [    1     2     4     8]\n",
      " [    1    34  1156 39304]]\n",
      "For increasing = False \n",
      " [[    1     1     1     1]\n",
      " [    8     4     2     1]\n",
      " [39304  1156    34     1]]\n"
     ]
    }
   ],
   "source": [
    "x=np.array([1,2,34])\n",
    "N=4\n",
    "def vander(cha):\n",
    "    if cha==True:\n",
    "        \n",
    "        return np.column_stack([x**i for i in range(N)])\n",
    "    else:\n",
    "        return np.column_stack([x**(N-1-i) for i in range(N)])\n",
    "a=vander(True)\n",
    "b=vander(False)\n",
    "\n",
    "print(\"For increasing = True \\n\",a)\n",
    "print(\"For increasing = False \\n\",b)\n"
   ]
  },
  {
   "cell_type": "code",
   "execution_count": null,
   "metadata": {},
   "outputs": [],
   "source": []
  }
 ],
 "metadata": {
  "kernelspec": {
   "display_name": "Python 3",
   "language": "python",
   "name": "python3"
  },
  "language_info": {
   "codemirror_mode": {
    "name": "ipython",
    "version": 3
   },
   "file_extension": ".py",
   "mimetype": "text/x-python",
   "name": "python",
   "nbconvert_exporter": "python",
   "pygments_lexer": "ipython3",
   "version": "3.7.0"
  }
 },
 "nbformat": 4,
 "nbformat_minor": 2
}
